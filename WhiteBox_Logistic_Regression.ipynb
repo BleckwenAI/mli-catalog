{
 "cells": [
  {
   "cell_type": "markdown",
   "metadata": {},
   "source": [
    "# Logistic regression"
   ]
  },
  {
   "cell_type": "markdown",
   "metadata": {},
   "source": [
    "## Definition and intuition"
   ]
  },
  {
   "cell_type": "markdown",
   "metadata": {},
   "source": [
    "The <a href=Linear_models.ipynb>linear regression</a> does not work well with classification cases, a solution for classification tasks is using logistic regression (a generalized linear model). using a link function (the logistic function) it allows the target to exist only between 0 and 1 making it possible to achieve binary classification and also giving a probability of a sample belonging to one class or another.    "
   ]
  },
  {
   "cell_type": "markdown",
   "metadata": {},
   "source": [
    "## Logistic Regression and interpretability "
   ]
  },
  {
   "cell_type": "markdown",
   "metadata": {},
   "source": [
    "As mentioned above, the logistic regression model outputs a probability of belonging to a certain  class (the class that has the label 1). Let's call this probability $Y$:  \n",
    "We have :\n",
    "$$ log(Y) = \\beta_0 + \\beta_1 X_1 + ... + \\beta_n X_n  $$\n",
    "In Linear models, in order to achieve explainability we plotted the coefficients $(\\beta_0, \\beta_1, ..., \\beta_n)$ but here we will plot $(exp(\\beta_0), exp(\\beta_1), ..., exp(\\beta_n))$ as they represent :\n",
    "\n",
    "* **Numerical feature**: For an increase of one unit in the corresponding feature, the odds are multiplied by $exp(\\beta)$ \n",
    "* **Binary categorical feature**: For a change of the feature from the reference level (0) to the level (1) the odds are multiplied exp(βj)\n",
    "* **Categorical feature with many levels**: to deal with multiple categories we can one-hot code them, returning to the case of binary features.\n",
    "> Odds are a way to describe the chances of an event occurring, it is the probability of success divided by the probability of failure"
   ]
  },
  {
   "cell_type": "markdown",
   "metadata": {},
   "source": [
    "## Importations"
   ]
  },
  {
   "cell_type": "code",
   "execution_count": 1,
   "metadata": {},
   "outputs": [],
   "source": [
    "import sklearn as sk\n",
    "import pandas as pd\n",
    "\n",
    "# Importing lending club dataset\n",
    "from mlinutils.datasets import Loans\n",
    "\n",
    "# Libraries specific to Logistic regression models \n",
    "from sklearn.linear_model import LogisticRegression\n",
    "from sklearn.preprocessing import MinMaxScaler\n",
    "\n",
    "import mlinutils.linear_model_plots as lmp\n",
    "import mlinutils.sanity as san"
   ]
  },
  {
   "cell_type": "code",
   "execution_count": 2,
   "metadata": {},
   "outputs": [],
   "source": [
    "#  make plot outputs appear and be stored within the notebook\n",
    "%matplotlib inline"
   ]
  },
  {
   "cell_type": "markdown",
   "metadata": {},
   "source": [
    "## The datasets we're using "
   ]
  },
  {
   "cell_type": "markdown",
   "metadata": {},
   "source": [
    "### Data description\n",
    "The full description of the Datasets that are used in this entire collection of notebooks is available separately \n",
    "* Lending club: information on users and wether or not they default on their payments from a peer to peer lending online service <a href=\"lending_club_dataset.ipynb\">see lending club dataset exploration</a> "
   ]
  },
  {
   "cell_type": "markdown",
   "metadata": {},
   "source": [
    "### Data importation "
   ]
  },
  {
   "cell_type": "code",
   "execution_count": 3,
   "metadata": {},
   "outputs": [],
   "source": [
    "loans = Loans()\n",
    "ln_X_train, ln_X_test, ln_y_train, ln_y_test = loans.load()\n",
    "loan = loans.data"
   ]
  },
  {
   "cell_type": "markdown",
   "metadata": {},
   "source": [
    "### Data preview\n",
    "Take a peak into the data we'll be using !"
   ]
  },
  {
   "cell_type": "code",
   "execution_count": 4,
   "metadata": {},
   "outputs": [
    {
     "name": "stdout",
     "output_type": "stream",
     "text": [
      "This dataset contains 98339 instances with 19 attributes\n"
     ]
    },
    {
     "data": {
      "text/html": [
       "<div>\n",
       "<style scoped>\n",
       "    .dataframe tbody tr th:only-of-type {\n",
       "        vertical-align: middle;\n",
       "    }\n",
       "\n",
       "    .dataframe tbody tr th {\n",
       "        vertical-align: top;\n",
       "    }\n",
       "\n",
       "    .dataframe thead th {\n",
       "        text-align: right;\n",
       "    }\n",
       "</style>\n",
       "<table border=\"1\" class=\"dataframe\">\n",
       "  <thead>\n",
       "    <tr style=\"text-align: right;\">\n",
       "      <th></th>\n",
       "      <th>loan_amnt</th>\n",
       "      <th>int_rate</th>\n",
       "      <th>installment</th>\n",
       "      <th>grade</th>\n",
       "      <th>emp_length</th>\n",
       "      <th>home_ownership</th>\n",
       "      <th>annual_inc</th>\n",
       "      <th>verification_status</th>\n",
       "      <th>purpose</th>\n",
       "      <th>dti</th>\n",
       "      <th>delinq_2yrs</th>\n",
       "      <th>inq_last_6mths</th>\n",
       "      <th>open_acc</th>\n",
       "      <th>revol_bal</th>\n",
       "      <th>revol_util</th>\n",
       "      <th>open_acc_6m</th>\n",
       "      <th>inq_fi</th>\n",
       "      <th>mths_since_crl_was_opened</th>\n",
       "      <th>bad_loan_status</th>\n",
       "    </tr>\n",
       "  </thead>\n",
       "  <tbody>\n",
       "    <tr>\n",
       "      <th>12994</th>\n",
       "      <td>17700.0</td>\n",
       "      <td>17.57</td>\n",
       "      <td>445.34</td>\n",
       "      <td>4.0</td>\n",
       "      <td>1.0</td>\n",
       "      <td>MORTGAGE</td>\n",
       "      <td>46000.0</td>\n",
       "      <td>Not Verified</td>\n",
       "      <td>debt_consolidation</td>\n",
       "      <td>28.39</td>\n",
       "      <td>0.0</td>\n",
       "      <td>0.0</td>\n",
       "      <td>19.0</td>\n",
       "      <td>19898.0</td>\n",
       "      <td>75.9</td>\n",
       "      <td>1.0</td>\n",
       "      <td>1.0</td>\n",
       "      <td>82.991437</td>\n",
       "      <td>1</td>\n",
       "    </tr>\n",
       "    <tr>\n",
       "      <th>84331</th>\n",
       "      <td>14500.0</td>\n",
       "      <td>8.90</td>\n",
       "      <td>460.43</td>\n",
       "      <td>7.0</td>\n",
       "      <td>10.0</td>\n",
       "      <td>MORTGAGE</td>\n",
       "      <td>71000.0</td>\n",
       "      <td>Verified</td>\n",
       "      <td>debt_consolidation</td>\n",
       "      <td>1.12</td>\n",
       "      <td>0.0</td>\n",
       "      <td>0.0</td>\n",
       "      <td>4.0</td>\n",
       "      <td>2113.0</td>\n",
       "      <td>70.4</td>\n",
       "      <td>1.0</td>\n",
       "      <td>1.0</td>\n",
       "      <td>192.923879</td>\n",
       "      <td>0</td>\n",
       "    </tr>\n",
       "    <tr>\n",
       "      <th>5039</th>\n",
       "      <td>19000.0</td>\n",
       "      <td>15.80</td>\n",
       "      <td>460.03</td>\n",
       "      <td>5.0</td>\n",
       "      <td>10.0</td>\n",
       "      <td>MORTGAGE</td>\n",
       "      <td>49000.0</td>\n",
       "      <td>Verified</td>\n",
       "      <td>debt_consolidation</td>\n",
       "      <td>22.65</td>\n",
       "      <td>2.0</td>\n",
       "      <td>1.0</td>\n",
       "      <td>15.0</td>\n",
       "      <td>8374.0</td>\n",
       "      <td>43.8</td>\n",
       "      <td>1.0</td>\n",
       "      <td>1.0</td>\n",
       "      <td>141.998809</td>\n",
       "      <td>1</td>\n",
       "    </tr>\n",
       "    <tr>\n",
       "      <th>40826</th>\n",
       "      <td>21000.0</td>\n",
       "      <td>9.99</td>\n",
       "      <td>677.52</td>\n",
       "      <td>6.0</td>\n",
       "      <td>10.0</td>\n",
       "      <td>MORTGAGE</td>\n",
       "      <td>175000.0</td>\n",
       "      <td>Not Verified</td>\n",
       "      <td>credit_card</td>\n",
       "      <td>9.14</td>\n",
       "      <td>1.0</td>\n",
       "      <td>0.0</td>\n",
       "      <td>16.0</td>\n",
       "      <td>47073.0</td>\n",
       "      <td>56.1</td>\n",
       "      <td>1.0</td>\n",
       "      <td>1.0</td>\n",
       "      <td>145.021458</td>\n",
       "      <td>1</td>\n",
       "    </tr>\n",
       "    <tr>\n",
       "      <th>26510</th>\n",
       "      <td>28000.0</td>\n",
       "      <td>7.90</td>\n",
       "      <td>876.13</td>\n",
       "      <td>7.0</td>\n",
       "      <td>10.0</td>\n",
       "      <td>OWN</td>\n",
       "      <td>125000.0</td>\n",
       "      <td>Source Verified</td>\n",
       "      <td>debt_consolidation</td>\n",
       "      <td>12.33</td>\n",
       "      <td>1.0</td>\n",
       "      <td>0.0</td>\n",
       "      <td>11.0</td>\n",
       "      <td>12860.0</td>\n",
       "      <td>31.9</td>\n",
       "      <td>1.0</td>\n",
       "      <td>1.0</td>\n",
       "      <td>276.999528</td>\n",
       "      <td>0</td>\n",
       "    </tr>\n",
       "  </tbody>\n",
       "</table>\n",
       "</div>"
      ],
      "text/plain": [
       "       loan_amnt  int_rate  installment  grade  emp_length home_ownership  \\\n",
       "12994    17700.0     17.57       445.34    4.0         1.0       MORTGAGE   \n",
       "84331    14500.0      8.90       460.43    7.0        10.0       MORTGAGE   \n",
       "5039     19000.0     15.80       460.03    5.0        10.0       MORTGAGE   \n",
       "40826    21000.0      9.99       677.52    6.0        10.0       MORTGAGE   \n",
       "26510    28000.0      7.90       876.13    7.0        10.0            OWN   \n",
       "\n",
       "       annual_inc verification_status             purpose    dti  delinq_2yrs  \\\n",
       "12994     46000.0        Not Verified  debt_consolidation  28.39          0.0   \n",
       "84331     71000.0            Verified  debt_consolidation   1.12          0.0   \n",
       "5039      49000.0            Verified  debt_consolidation  22.65          2.0   \n",
       "40826    175000.0        Not Verified         credit_card   9.14          1.0   \n",
       "26510    125000.0     Source Verified  debt_consolidation  12.33          1.0   \n",
       "\n",
       "       inq_last_6mths  open_acc  revol_bal  revol_util  open_acc_6m  inq_fi  \\\n",
       "12994             0.0      19.0    19898.0        75.9          1.0     1.0   \n",
       "84331             0.0       4.0     2113.0        70.4          1.0     1.0   \n",
       "5039              1.0      15.0     8374.0        43.8          1.0     1.0   \n",
       "40826             0.0      16.0    47073.0        56.1          1.0     1.0   \n",
       "26510             0.0      11.0    12860.0        31.9          1.0     1.0   \n",
       "\n",
       "       mths_since_crl_was_opened  bad_loan_status  \n",
       "12994                  82.991437                1  \n",
       "84331                 192.923879                0  \n",
       "5039                  141.998809                1  \n",
       "40826                 145.021458                1  \n",
       "26510                 276.999528                0  "
      ]
     },
     "metadata": {},
     "output_type": "display_data"
    }
   ],
   "source": [
    "loans.preview()"
   ]
  },
  {
   "cell_type": "markdown",
   "metadata": {},
   "source": [
    "## Application"
   ]
  },
  {
   "cell_type": "markdown",
   "metadata": {},
   "source": [
    "### Plan\n",
    "For logistic regression models we will only see its interpretability for the task: classification with lending club dataset (for regression with bike sharing <a href=Linear_Models.ipynb>see the linear models notebook</a>). We can interpret the our results (globally and locally). We will add LASSO and Ridge penalization and compare their effect on interpretability.  \n",
    "* <a href=#lr>Classification with lending club dataset</a>  \n",
    "    * <a href=#lrnone> Logistic regression without penalization </a>\n",
    "        * <a href=#lrnonem> Model creation and sanity checks </a>\n",
    "        * <a href=#lrnoneg> Global explanation </a>\n",
    "        * <a href=#lrnonel> Local explanation </a>\n",
    "    * <a href=#lrc>Conclusions </a>"
   ]
  },
  {
   "cell_type": "markdown",
   "metadata": {},
   "source": [
    "### Classification with lending club dataset <a name=lr>"
   ]
  },
  {
   "cell_type": "markdown",
   "metadata": {},
   "source": [
    "#### Logistic regression without penalization <a name=lrnone>"
   ]
  },
  {
   "cell_type": "markdown",
   "metadata": {},
   "source": [
    "##### Model creation and sanity checks <a name=lrnonem>"
   ]
  },
  {
   "cell_type": "code",
   "execution_count": 5,
   "metadata": {},
   "outputs": [],
   "source": [
    "# Model creation\n",
    "scaler = MinMaxScaler()\n",
    "scaler.fit(ln_X_train)\n",
    "\n",
    "scaled_ln_X_train = scaler.transform(ln_X_train)\n",
    "scaled_ln_X_test = scaler.transform(ln_X_test)\n",
    "\n",
    "lr = LogisticRegression(C=0.05).fit(scaled_ln_X_train, ln_y_train)"
   ]
  },
  {
   "cell_type": "code",
   "execution_count": 6,
   "metadata": {},
   "outputs": [
    {
     "data": {
      "image/png": "[encoded data removed]",
      "text/plain": [
       "<Figure size 432x288 with 1 Axes>"
      ]
     },
     "metadata": {},
     "output_type": "display_data"
    }
   ],
   "source": [
    "# Sanity checks\n",
    "san.classification_sanity_check(lr, \n",
    "                                scaled_ln_X_train, scaled_ln_X_test,\n",
    "                                ln_y_train, ln_y_test)"
   ]
  },
  {
   "cell_type": "markdown",
   "metadata": {},
   "source": [
    "#### Global explanation <a name=lrnoneg>\n",
    "The following figure explains what happens in the model globally, the global trends and the importance of each and every feature.\n",
    "Logistic regression coefficients are reported as log odds. \n",
    "    \n",
    "It's a representation of the the exponential of the coefficients \n",
    "* If $\\beta \\geq 0$: the value <span style=\"color:#3572C6\">augments</span> the probability of belonging to the \"positive\" class and it is represented as \"the target outcome (e.g., a correct response) is $exp(\\beta)$ times <b>more likely</b> than the non-target outcome (e.g., an incorrect response).\"\n",
    "* If $\\beta < 0$ the value <span style=\"color:##C44E52\">diminishes</span> the probability of belonging to the default class and it is represented as \"the target outcome (e.g., a correct response) is $exp(-\\beta)$ times <b>less likely</b> than the non-target outcome (e.g., an incorrect response).\"\n",
    "    \n",
    "A more detailed guidance on how to interpret logistic regression coefficients can be find at [Interpreting logistic regression models (pdf)](http://www-hsc.usc.edu/~eckel/biostat2/notes/notes14.pdf)"
   ]
  },
  {
   "cell_type": "code",
   "execution_count": 7,
   "metadata": {},
   "outputs": [
    {
     "data": {
      "image/png": "[encoded data removed]",
      "text/plain": [
       "<Figure size 720x720 with 1 Axes>"
      ]
     },
     "metadata": {},
     "output_type": "display_data"
    }
   ],
   "source": [
    "lmp.global_explanation_plot(ln_X_train.columns, lr, selected_ft=10)"
   ]
  },
  {
   "cell_type": "markdown",
   "metadata": {},
   "source": [
    "#### Local explanation <a name=lrnonel>\n",
    "After looking at global explanations, we need to understand why for a particular sample the prediction was made.\n",
    "For a single sample we explain the numerical contribution of each feature to the probability. (in a mutiplication sense\n",
    "we evaluate and display the contribution of each feature to the predicted total."
   ]
  },
  {
   "cell_type": "code",
   "execution_count": 8,
   "metadata": {},
   "outputs": [
    {
     "data": {
      "text/html": [
       "<div>\n",
       "<style scoped>\n",
       "    .dataframe tbody tr th:only-of-type {\n",
       "        vertical-align: middle;\n",
       "    }\n",
       "\n",
       "    .dataframe tbody tr th {\n",
       "        vertical-align: top;\n",
       "    }\n",
       "\n",
       "    .dataframe thead th {\n",
       "        text-align: right;\n",
       "    }\n",
       "</style>\n",
       "<table border=\"1\" class=\"dataframe\">\n",
       "  <thead>\n",
       "    <tr style=\"text-align: right;\">\n",
       "      <th></th>\n",
       "      <th>loan_amnt</th>\n",
       "      <th>int_rate</th>\n",
       "      <th>installment</th>\n",
       "      <th>grade</th>\n",
       "      <th>emp_length</th>\n",
       "      <th>home_ownership</th>\n",
       "      <th>annual_inc</th>\n",
       "      <th>verification_status</th>\n",
       "      <th>purpose</th>\n",
       "      <th>dti</th>\n",
       "      <th>delinq_2yrs</th>\n",
       "      <th>inq_last_6mths</th>\n",
       "      <th>open_acc</th>\n",
       "      <th>revol_bal</th>\n",
       "      <th>revol_util</th>\n",
       "      <th>open_acc_6m</th>\n",
       "      <th>inq_fi</th>\n",
       "      <th>mths_since_crl_was_opened</th>\n",
       "      <th>bad_loan_status</th>\n",
       "    </tr>\n",
       "  </thead>\n",
       "  <tbody>\n",
       "    <tr>\n",
       "      <th>80149</th>\n",
       "      <td>8000.0</td>\n",
       "      <td>14.64</td>\n",
       "      <td>275.92</td>\n",
       "      <td>5.0</td>\n",
       "      <td>6.0</td>\n",
       "      <td>MORTGAGE</td>\n",
       "      <td>96000.0</td>\n",
       "      <td>Verified</td>\n",
       "      <td>home_improvement</td>\n",
       "      <td>16.89</td>\n",
       "      <td>0.0</td>\n",
       "      <td>4.0</td>\n",
       "      <td>11.0</td>\n",
       "      <td>10899.0</td>\n",
       "      <td>31.6</td>\n",
       "      <td>1.0</td>\n",
       "      <td>1.0</td>\n",
       "      <td>244.966016</td>\n",
       "      <td>0</td>\n",
       "    </tr>\n",
       "  </tbody>\n",
       "</table>\n",
       "</div>"
      ],
      "text/plain": [
       "       loan_amnt  int_rate  installment  grade  emp_length home_ownership  \\\n",
       "80149     8000.0     14.64       275.92    5.0         6.0       MORTGAGE   \n",
       "\n",
       "       annual_inc verification_status           purpose    dti  delinq_2yrs  \\\n",
       "80149     96000.0            Verified  home_improvement  16.89          0.0   \n",
       "\n",
       "       inq_last_6mths  open_acc  revol_bal  revol_util  open_acc_6m  inq_fi  \\\n",
       "80149             4.0      11.0    10899.0        31.6          1.0     1.0   \n",
       "\n",
       "       mths_since_crl_was_opened  bad_loan_status  \n",
       "80149                 244.966016                0  "
      ]
     },
     "execution_count": 8,
     "metadata": {},
     "output_type": "execute_result"
    }
   ],
   "source": [
    "loan_sample = scaled_ln_X_test[42]\n",
    "\n",
    "## recovers the original format just for reading convenience\n",
    "loans.data.iloc[[ln_X_test.iloc[42].name],:]"
   ]
  },
  {
   "cell_type": "code",
   "execution_count": 9,
   "metadata": {},
   "outputs": [
    {
     "name": "stdout",
     "output_type": "stream",
     "text": [
      "Probability of \"default\" is: 0.19\n"
     ]
    },
    {
     "data": {
      "image/png": "[encoded data removed]",
      "text/plain": [
       "<Figure size 720x720 with 1 Axes>"
      ]
     },
     "metadata": {},
     "output_type": "display_data"
    }
   ],
   "source": [
    "lmp.local_logistic_plot(loan_sample,\n",
    "                        feature_names=ln_X_test.columns,\n",
    "                        logistic_model=lr,\n",
    "                        classes_label=[\"not default\", \"default\"]);"
   ]
  },
  {
   "cell_type": "markdown",
   "metadata": {},
   "source": [
    "#### Conclusions <a name=lrc>"
   ]
  },
  {
   "cell_type": "markdown",
   "metadata": {},
   "source": [
    "Like linear models, logistic regression is pretty intuitive and easy to interpret, in industries where interpretability is required by law, it is being used as a standard for explainability."
   ]
  }
 ],
 "metadata": {
  "kernelspec": {
   "display_name": "Python [conda env:iml-all]",
   "language": "python",
   "name": "conda-env-iml-all-py"
  },
  "language_info": {
   "codemirror_mode": {
    "name": "ipython",
    "version": 3
   },
   "file_extension": ".py",
   "mimetype": "text/x-python",
   "name": "python",
   "nbconvert_exporter": "python",
   "pygments_lexer": "ipython3",
   "version": "3.6.6"
  }
 },
 "nbformat": 4,
 "nbformat_minor": 2
}
